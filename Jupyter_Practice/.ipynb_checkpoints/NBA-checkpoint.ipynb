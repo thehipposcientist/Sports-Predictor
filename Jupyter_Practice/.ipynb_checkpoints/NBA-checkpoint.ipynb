{
 "cells": [
  {
   "cell_type": "code",
   "execution_count": 2,
   "id": "ecc6a551",
   "metadata": {},
   "outputs": [],
   "source": [
    "from sportsipy.nba.schedule import Schedule\n",
    "from sportsipy.nba.teams import Teams\n",
    "import pandas as pd\n",
    "from sportsipy.nba.boxscore import Boxscores, Boxscore\n",
    "from datetime import datetime\n",
    "import requests\n",
    "from bs4 import BeautifulSoup\n",
    "import re\n",
    "import keras\n",
    "import seaborn as sns"
   ]
  },
  {
   "cell_type": "code",
   "execution_count": 3,
   "id": "cc8342c8",
   "metadata": {},
   "outputs": [],
   "source": [
    "games_today = Boxscores(datetime.today())\n",
    "\n",
    "away = []\n",
    "home = []\n",
    "away_score = []\n",
    "home_score = []\n",
    "winner = []\n",
    "game_date = []\n",
    "\n",
    "for key in games_today.games.keys():\n",
    "    away.extend(item['away_name'] for item in games_today.games[key])\n",
    "    home.extend(item['home_name'] for item in games_today.games[key])\n",
    "    away_score.extend(item['away_score'] for item in games_today.games[key])\n",
    "    home_score.extend(item['home_score'] for item in games_today.games[key])\n",
    "    winner.extend(item['winning_name'] for item in games_today.games[key])\n",
    "    game_date.extend(item['boxscore'] for item in games_today.games[key])\n",
    "\n",
    "for i in range(len(game_date)):\n",
    "    game_info = Boxscore(game_date[i])\n",
    "    game_date[i] = game_info.date   "
   ]
  },
  {
   "cell_type": "code",
   "execution_count": null,
   "id": "3c681da2",
   "metadata": {},
   "outputs": [],
   "source": [
    "print(away)"
   ]
  }
 ],
 "metadata": {
  "kernelspec": {
   "display_name": "Python 3 (ipykernel)",
   "language": "python",
   "name": "python3"
  },
  "language_info": {
   "codemirror_mode": {
    "name": "ipython",
    "version": 3
   },
   "file_extension": ".py",
   "mimetype": "text/x-python",
   "name": "python",
   "nbconvert_exporter": "python",
   "pygments_lexer": "ipython3",
   "version": "3.9.8"
  }
 },
 "nbformat": 4,
 "nbformat_minor": 5
}
