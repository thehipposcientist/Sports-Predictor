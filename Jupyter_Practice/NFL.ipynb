{
 "cells": [
  {
   "cell_type": "code",
   "execution_count": 9,
   "id": "2b95ab23",
   "metadata": {},
   "outputs": [],
   "source": [
    "# Practice getting NFL data and making data tables"
   ]
  },
  {
   "cell_type": "code",
   "execution_count": 11,
   "id": "d697a8ca",
   "metadata": {},
   "outputs": [
    {
     "ename": "ModuleNotFoundError",
     "evalue": "No module named 'sports'",
     "output_type": "error",
     "traceback": [
      "\u001b[1;31m---------------------------------------------------------------------------\u001b[0m",
      "\u001b[1;31mModuleNotFoundError\u001b[0m                       Traceback (most recent call last)",
      "\u001b[1;32m~\\AppData\\Local\\Temp/ipykernel_19508/3052116702.py\u001b[0m in \u001b[0;36m<module>\u001b[1;34m\u001b[0m\n\u001b[0;32m     10\u001b[0m \u001b[1;32mfrom\u001b[0m \u001b[0mkeras\u001b[0m\u001b[1;33m.\u001b[0m\u001b[0mlayers\u001b[0m \u001b[1;32mimport\u001b[0m \u001b[0mLSTM\u001b[0m\u001b[1;33m,\u001b[0m \u001b[0mDense\u001b[0m\u001b[1;33m\u001b[0m\u001b[1;33m\u001b[0m\u001b[0m\n\u001b[0;32m     11\u001b[0m \u001b[1;32mimport\u001b[0m \u001b[0mseaborn\u001b[0m \u001b[1;32mas\u001b[0m \u001b[0msns\u001b[0m\u001b[1;33m\u001b[0m\u001b[1;33m\u001b[0m\u001b[0m\n\u001b[1;32m---> 12\u001b[1;33m \u001b[1;32mimport\u001b[0m \u001b[0msports\u001b[0m\u001b[1;33m\u001b[0m\u001b[1;33m\u001b[0m\u001b[0m\n\u001b[0m\u001b[0;32m     13\u001b[0m \u001b[1;32mfrom\u001b[0m \u001b[0msklearn\u001b[0m\u001b[1;33m.\u001b[0m\u001b[0mmodel_selection\u001b[0m \u001b[1;32mimport\u001b[0m \u001b[0mtrain_test_split\u001b[0m\u001b[1;33m\u001b[0m\u001b[1;33m\u001b[0m\u001b[0m\n\u001b[0;32m     14\u001b[0m \u001b[1;32mimport\u001b[0m \u001b[0mnumpy\u001b[0m \u001b[1;32mas\u001b[0m \u001b[0mnp\u001b[0m\u001b[1;33m\u001b[0m\u001b[1;33m\u001b[0m\u001b[0m\n",
      "\u001b[1;31mModuleNotFoundError\u001b[0m: No module named 'sports'"
     ]
    }
   ],
   "source": [
    "from sportsipy.nfl.schedule import Schedule\n",
    "from sportsipy.nfl.teams import Teams\n",
    "import pandas as pd\n",
    "from sportsipy.nfl.boxscore import Boxscores, Boxscore\n",
    "from datetime import date\n",
    "import requests\n",
    "from bs4 import BeautifulSoup\n",
    "import re\n",
    "from keras.models import Sequential\n",
    "from keras.layers import LSTM, Dense\n",
    "import seaborn as sns\n",
    "import sports\n",
    "from sklearn.model_selection import train_test_split \n",
    "import numpy as np\n",
    "import pandas as pd\n",
    "from sklearn.preprocessing import LabelEncoder"
   ]
  },
  {
   "cell_type": "code",
   "execution_count": null,
   "id": "7e51d0f5",
   "metadata": {},
   "outputs": [],
   "source": [
    "teams = Teams()\n",
    "df = pd.DataFrame(columns = ['Name', 'Abbreviation', 'Penalties', 'Wins', 'Pass Attempts', 'Rush Attempts', 'First Downs',\n",
    "                            'Turnovers', 'Strength of Schedule', 'Rushing Yards', 'Passing Yards', 'Fumbles', 'Interceptions'])\n",
    "\n",
    "df['Name'] = [x.name for x in teams]\n",
    "df['Abbreviation'] = [x.abbreviation for x in teams]\n",
    "df['Wins'] = [x.wins for x in teams]\n",
    "df['Penalties'] = [x.penalties for x in teams]\n",
    "df['Pass Attempts'] = [x.pass_attempts for x in teams]\n",
    "df['Rush Attempts'] = [x.rush_attempts for x in teams]\n",
    "df['First Downs'] = [x.first_downs for x in teams]\n",
    "df['Turnovers'] = [x.turnovers for x in teams]\n",
    "df['Strength of Schedule'] = [x.strength_of_schedule for x in teams]\n",
    "df['Rushing Yards'] = [x.rush_yards for x in teams]\n",
    "df['Passing Yards'] = [x.pass_yards for x in teams]\n",
    "df['Fumbles'] = [x.fumbles for x in teams]\n",
    "df['Interceptions'] = [x.interceptions for x in teams]\n"
   ]
  },
  {
   "cell_type": "code",
   "execution_count": null,
   "id": "d8176300",
   "metadata": {},
   "outputs": [],
   "source": [
    "correlation_data = df[['Wins', 'Pass Attempts', 'Rush Attempts', 'Penalties', 'Turnovers', 'First Downs', 'Strength of Schedule',\n",
    "                  'Rushing Yards', 'Passing Yards', 'Fumbles', 'Interceptions']]\n",
    "correlation_data.corr(method ='pearson')"
   ]
  },
  {
   "cell_type": "code",
   "execution_count": null,
   "id": "3eb728ba",
   "metadata": {},
   "outputs": [],
   "source": [
    "sns.heatmap(correlation_data.corr(), annot=True, cmap=\"mako\")"
   ]
  },
  {
   "cell_type": "code",
   "execution_count": null,
   "id": "e367ebfa",
   "metadata": {},
   "outputs": [],
   "source": [
    "# creating the date object of today's date\n",
    "todays_date = date.today()\n",
    "\n",
    "# web scrape CBS for current week\n",
    "url = 'https://www.cbssports.com/nfl/schedule/'\n",
    "page = requests.get(url)\n",
    "soup = BeautifulSoup(page.content, \"html.parser\")\n",
    "results = soup.find(id=\"PageTitle-header\").text\n",
    "try:\n",
    "    current_week = int(re.search(r'\\d+', results).group())\n",
    "except:\n",
    "    print('Not in season')\n",
    "\n",
    "games_today = Boxscores(current_week, todays_date.year)\n",
    "# Prints a dictionary of all matchups for week 1 of 2017\n",
    "# games_today = pd.DataFrame.from_dict(games_today.games)"
   ]
  },
  {
   "cell_type": "code",
   "execution_count": null,
   "id": "f17a6b08",
   "metadata": {},
   "outputs": [],
   "source": [
    "current_schedule = pd.DataFrame(columns = ['Away Team', 'Home Team', 'Away Score', 'Home Score', 'Winner'])"
   ]
  },
  {
   "cell_type": "code",
   "execution_count": null,
   "id": "4780ecce",
   "metadata": {},
   "outputs": [],
   "source": [
    "game_date = []\n",
    "\n",
    "\n",
    "for key in games_today.games.keys():\n",
    "        current_schedule['Away Team'] =  [item['away_name'] for item in games_today.games[key]]\n",
    "        current_schedule['Home Team'] =  [item['home_name'] for item in games_today.games[key]]\n",
    "        current_schedule['Away Score'] =  [item['away_score'] for item in games_today.games[key]]\n",
    "        current_schedule['Home Score'] =  [item['home_score'] for item in games_today.games[key]]\n",
    "        current_schedule['Winner'] =  [item['winning_name'] for item in games_today.games[key]]\n",
    "        game_date.extend(item['boxscore'] for item in games_today.games[key])"
   ]
  },
  {
   "cell_type": "code",
   "execution_count": null,
   "id": "3df21ba5",
   "metadata": {},
   "outputs": [],
   "source": [
    "print(game_date) \n",
    "\n",
    "for i in range(len(game_date)):\n",
    "    game_info = Boxscore(i)\n",
    "    game_date[i] = game_info.date\n",
    "    \n",
    "print(game_date)     "
   ]
  },
  {
   "cell_type": "code",
   "execution_count": null,
   "id": "5338ef94",
   "metadata": {},
   "outputs": [],
   "source": [
    "history_of_seasons = pd.DataFrame(columns = ['Away Team', 'Home Team', 'Away Score', 'Home Score', 'Winner'])"
   ]
  },
  {
   "cell_type": "code",
   "execution_count": null,
   "id": "79311a65",
   "metadata": {},
   "outputs": [],
   "source": [
    "year = todays_date.year\n",
    "week = current_week-1\n",
    "away = []\n",
    "home = []\n",
    "away_score = []\n",
    "home_score = []\n",
    "winner = []\n",
    "weeks = []\n",
    "years = []\n",
    "\n",
    "while year >= todays_date.year-5:\n",
    "    if year != todays_date.year: week = 16\n",
    "    while week >= 1:\n",
    "        previous_games = Boxscores(week, year)\n",
    "        for key in previous_games.games.keys():\n",
    "            away.extend(item['away_name'] for item in previous_games.games[key])\n",
    "            home.extend(item['home_name'] for item in previous_games.games[key])\n",
    "            away_score.extend(item['away_score'] for item in previous_games.games[key])\n",
    "            home_score.extend(item['home_score'] for item in previous_games.games[key])\n",
    "            winner.extend(item['winning_name'] for item in previous_games.games[key])\n",
    "            for i in previous_games.games[key]: weeks.append(week)\n",
    "            for i in previous_games.games[key]: years.append(year)\n",
    "        week = week-1 \n",
    "    year = year-1"
   ]
  },
  {
   "cell_type": "code",
   "execution_count": null,
   "id": "f02ac39b",
   "metadata": {},
   "outputs": [],
   "source": [
    "home[:] = [x if x != 'Washington Redskins' else 'Washington Football Team' for x in home]\n",
    "away[:] = [x if x != 'Washington Redskins' else 'Washington Football Team' for x in away]\n",
    "\n",
    "home[:] = [x if x != 'Oakland Raiders' else 'Las Vegas Raiders' for x in home]\n",
    "away[:] = [x if x != 'Oakland Raiders' else 'Las Vegas Raiders' for x in away]\n",
    "\n",
    "history_of_seasons['Away Team'] =  away\n",
    "history_of_seasons['Home Team'] =  home\n",
    "history_of_seasons['Away Score'] = away_score\n",
    "history_of_seasons['Home Score'] =  home_score\n",
    "history_of_seasons['Winner'] =  winner\n",
    "history_of_seasons['Week'] =  weeks\n",
    "history_of_seasons['Season'] =  years"
   ]
  },
  {
   "cell_type": "code",
   "execution_count": null,
   "id": "1cdf49ca",
   "metadata": {},
   "outputs": [],
   "source": [
    "le = LabelEncoder()\n",
    "\n",
    "away = le.fit_transform(away)\n",
    "home = le.fit_transform(home)\n",
    "winner = le.fit_transform(winner)\n",
    "\n",
    "data = [away, home, away_score, home_score, weeks, years]\n",
    "target = [winner]\n",
    "\n",
    "x = pd.DataFrame(data)\n",
    "y = pd.DataFrame(target)\n",
    "x = x.transpose()\n",
    "y = y.transpose()\n",
    "\n",
    "print(x.shape)\n",
    "print(y.shape)"
   ]
  },
  {
   "cell_type": "code",
   "execution_count": null,
   "id": "61301eb4",
   "metadata": {},
   "outputs": [],
   "source": [
    "print(away)"
   ]
  },
  {
   "cell_type": "code",
   "execution_count": null,
   "id": "45f0751a",
   "metadata": {},
   "outputs": [],
   "source": [
    "print(home)"
   ]
  },
  {
   "cell_type": "code",
   "execution_count": null,
   "id": "26788431",
   "metadata": {},
   "outputs": [],
   "source": [
    "print(winner)"
   ]
  },
  {
   "cell_type": "code",
   "execution_count": null,
   "id": "293378d9",
   "metadata": {},
   "outputs": [],
   "source": [
    "x_train, x_test, y_train, y_test = train_test_split(x, y, test_size=0.2, random_state=4)"
   ]
  },
  {
   "cell_type": "code",
   "execution_count": null,
   "id": "3a07af71",
   "metadata": {},
   "outputs": [],
   "source": [
    "x_train.shape"
   ]
  },
  {
   "cell_type": "code",
   "execution_count": null,
   "id": "1d400f32",
   "metadata": {},
   "outputs": [],
   "source": [
    "# RNN Model\n",
    "model=Sequential()\n",
    "model.add(LSTM((1),input_shape=(x_train.shape[1],1)))\n",
    "model.compile(loss='mean_absolute_error', optimizer='adam',metrics=['accuracy'])\n",
    "model.summary()"
   ]
  },
  {
   "cell_type": "code",
   "execution_count": null,
   "id": "2d4bc16b",
   "metadata": {},
   "outputs": [],
   "source": [
    "history = model.fit(x_train, y_train, epochs=500, validation_data=(x_test,y_test))"
   ]
  },
  {
   "cell_type": "code",
   "execution_count": null,
   "id": "3a984432",
   "metadata": {},
   "outputs": [],
   "source": []
  },
  {
   "cell_type": "code",
   "execution_count": null,
   "id": "5d20e407",
   "metadata": {},
   "outputs": [],
   "source": []
  }
 ],
 "metadata": {
  "kernelspec": {
   "display_name": "Python 3 (ipykernel)",
   "language": "python",
   "name": "python3"
  },
  "language_info": {
   "codemirror_mode": {
    "name": "ipython",
    "version": 3
   },
   "file_extension": ".py",
   "mimetype": "text/x-python",
   "name": "python",
   "nbconvert_exporter": "python",
   "pygments_lexer": "ipython3",
   "version": "3.9.7"
  }
 },
 "nbformat": 4,
 "nbformat_minor": 5
}
