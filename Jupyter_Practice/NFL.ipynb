{
 "cells": [
  {
   "cell_type": "code",
   "execution_count": 1,
   "id": "2b95ab23",
   "metadata": {},
   "outputs": [],
   "source": [
    "# Practice getting NFL data and making data tables"
   ]
  },
  {
   "cell_type": "code",
   "execution_count": 2,
   "id": "d697a8ca",
   "metadata": {},
   "outputs": [],
   "source": [
    "from sportsipy.nfl.schedule import Schedule\n",
    "from sportsipy.nfl.teams import Teams\n",
    "import pandas as pd\n",
    "from sportsipy.nfl.boxscore import Boxscores, Boxscore\n",
    "from datetime import date\n",
    "import requests\n",
    "from bs4 import BeautifulSoup\n",
    "import re\n",
    "from keras.models import Sequential\n",
    "from keras.layers import LSTM, Dense\n",
    "import seaborn as sns\n",
    "import sports\n",
    "from sklearn.model_selection import train_test_split \n",
    "import numpy as np\n",
    "import pandas as pd\n",
    "from sklearn.preprocessing import LabelEncoder"
   ]
  },
  {
   "cell_type": "code",
   "execution_count": 3,
   "id": "7e51d0f5",
   "metadata": {},
   "outputs": [],
   "source": [
    "teams = Teams()\n",
    "df = pd.DataFrame(columns = ['Name', 'Abbreviation', 'Penalties', 'Wins', 'Pass Attempts', 'Rush Attempts', 'First Downs',\n",
    "                            'Turnovers', 'Strength of Schedule', 'Rushing Yards', 'Passing Yards', 'Fumbles', 'Interceptions'])\n",
    "\n",
    "df['Name'] = [x.name for x in teams]\n",
    "df['Abbreviation'] = [x.abbreviation for x in teams]\n",
    "df['Wins'] = [x.wins for x in teams]\n",
    "df['Penalties'] = [x.penalties for x in teams]\n",
    "df['Pass Attempts'] = [x.pass_attempts for x in teams]\n",
    "df['Rush Attempts'] = [x.rush_attempts for x in teams]\n",
    "df['First Downs'] = [x.first_downs for x in teams]\n",
    "df['Turnovers'] = [x.turnovers for x in teams]\n",
    "df['Strength of Schedule'] = [x.strength_of_schedule for x in teams]\n",
    "df['Rushing Yards'] = [x.rush_yards for x in teams]\n",
    "df['Passing Yards'] = [x.pass_yards for x in teams]\n",
    "df['Fumbles'] = [x.fumbles for x in teams]\n",
    "df['Interceptions'] = [x.interceptions for x in teams]\n"
   ]
  },
  {
   "cell_type": "code",
   "execution_count": 4,
   "id": "d8176300",
   "metadata": {},
   "outputs": [
    {
     "data": {
      "text/html": [
       "<div>\n",
       "<style scoped>\n",
       "    .dataframe tbody tr th:only-of-type {\n",
       "        vertical-align: middle;\n",
       "    }\n",
       "\n",
       "    .dataframe tbody tr th {\n",
       "        vertical-align: top;\n",
       "    }\n",
       "\n",
       "    .dataframe thead th {\n",
       "        text-align: right;\n",
       "    }\n",
       "</style>\n",
       "<table border=\"1\" class=\"dataframe\">\n",
       "  <thead>\n",
       "    <tr style=\"text-align: right;\">\n",
       "      <th></th>\n",
       "      <th>Wins</th>\n",
       "      <th>Pass Attempts</th>\n",
       "      <th>Rush Attempts</th>\n",
       "      <th>Penalties</th>\n",
       "      <th>Turnovers</th>\n",
       "      <th>First Downs</th>\n",
       "      <th>Strength of Schedule</th>\n",
       "      <th>Rushing Yards</th>\n",
       "      <th>Passing Yards</th>\n",
       "      <th>Fumbles</th>\n",
       "      <th>Interceptions</th>\n",
       "    </tr>\n",
       "  </thead>\n",
       "  <tbody>\n",
       "    <tr>\n",
       "      <th>Wins</th>\n",
       "      <td>1.000000</td>\n",
       "      <td>0.209276</td>\n",
       "      <td>0.331420</td>\n",
       "      <td>-0.144777</td>\n",
       "      <td>-0.420682</td>\n",
       "      <td>0.722811</td>\n",
       "      <td>-0.329122</td>\n",
       "      <td>0.261794</td>\n",
       "      <td>0.672992</td>\n",
       "      <td>-0.228938</td>\n",
       "      <td>-0.399022</td>\n",
       "    </tr>\n",
       "    <tr>\n",
       "      <th>Pass Attempts</th>\n",
       "      <td>0.209276</td>\n",
       "      <td>1.000000</td>\n",
       "      <td>-0.515211</td>\n",
       "      <td>0.285037</td>\n",
       "      <td>0.238423</td>\n",
       "      <td>0.495663</td>\n",
       "      <td>0.174189</td>\n",
       "      <td>-0.449771</td>\n",
       "      <td>0.713538</td>\n",
       "      <td>0.119757</td>\n",
       "      <td>0.232071</td>\n",
       "    </tr>\n",
       "    <tr>\n",
       "      <th>Rush Attempts</th>\n",
       "      <td>0.331420</td>\n",
       "      <td>-0.515211</td>\n",
       "      <td>1.000000</td>\n",
       "      <td>-0.000904</td>\n",
       "      <td>-0.191038</td>\n",
       "      <td>0.296159</td>\n",
       "      <td>-0.250507</td>\n",
       "      <td>0.837317</td>\n",
       "      <td>-0.216263</td>\n",
       "      <td>-0.108118</td>\n",
       "      <td>-0.178741</td>\n",
       "    </tr>\n",
       "    <tr>\n",
       "      <th>Penalties</th>\n",
       "      <td>-0.144777</td>\n",
       "      <td>0.285037</td>\n",
       "      <td>-0.000904</td>\n",
       "      <td>1.000000</td>\n",
       "      <td>0.216950</td>\n",
       "      <td>0.074555</td>\n",
       "      <td>0.164874</td>\n",
       "      <td>-0.013864</td>\n",
       "      <td>0.094409</td>\n",
       "      <td>0.090695</td>\n",
       "      <td>0.222003</td>\n",
       "    </tr>\n",
       "    <tr>\n",
       "      <th>Turnovers</th>\n",
       "      <td>-0.420682</td>\n",
       "      <td>0.238423</td>\n",
       "      <td>-0.191038</td>\n",
       "      <td>0.216950</td>\n",
       "      <td>1.000000</td>\n",
       "      <td>-0.123774</td>\n",
       "      <td>0.207486</td>\n",
       "      <td>-0.277198</td>\n",
       "      <td>-0.166562</td>\n",
       "      <td>0.641733</td>\n",
       "      <td>0.890708</td>\n",
       "    </tr>\n",
       "    <tr>\n",
       "      <th>First Downs</th>\n",
       "      <td>0.722811</td>\n",
       "      <td>0.495663</td>\n",
       "      <td>0.296159</td>\n",
       "      <td>0.074555</td>\n",
       "      <td>-0.123774</td>\n",
       "      <td>1.000000</td>\n",
       "      <td>-0.154255</td>\n",
       "      <td>0.416908</td>\n",
       "      <td>0.740531</td>\n",
       "      <td>-0.053502</td>\n",
       "      <td>-0.125615</td>\n",
       "    </tr>\n",
       "    <tr>\n",
       "      <th>Strength of Schedule</th>\n",
       "      <td>-0.329122</td>\n",
       "      <td>0.174189</td>\n",
       "      <td>-0.250507</td>\n",
       "      <td>0.164874</td>\n",
       "      <td>0.207486</td>\n",
       "      <td>-0.154255</td>\n",
       "      <td>1.000000</td>\n",
       "      <td>-0.255343</td>\n",
       "      <td>-0.125375</td>\n",
       "      <td>0.105204</td>\n",
       "      <td>0.201373</td>\n",
       "    </tr>\n",
       "    <tr>\n",
       "      <th>Rushing Yards</th>\n",
       "      <td>0.261794</td>\n",
       "      <td>-0.449771</td>\n",
       "      <td>0.837317</td>\n",
       "      <td>-0.013864</td>\n",
       "      <td>-0.277198</td>\n",
       "      <td>0.416908</td>\n",
       "      <td>-0.255343</td>\n",
       "      <td>1.000000</td>\n",
       "      <td>-0.164692</td>\n",
       "      <td>-0.119401</td>\n",
       "      <td>-0.281568</td>\n",
       "    </tr>\n",
       "    <tr>\n",
       "      <th>Passing Yards</th>\n",
       "      <td>0.672992</td>\n",
       "      <td>0.713538</td>\n",
       "      <td>-0.216263</td>\n",
       "      <td>0.094409</td>\n",
       "      <td>-0.166562</td>\n",
       "      <td>0.740531</td>\n",
       "      <td>-0.125375</td>\n",
       "      <td>-0.164692</td>\n",
       "      <td>1.000000</td>\n",
       "      <td>-0.131573</td>\n",
       "      <td>-0.133726</td>\n",
       "    </tr>\n",
       "    <tr>\n",
       "      <th>Fumbles</th>\n",
       "      <td>-0.228938</td>\n",
       "      <td>0.119757</td>\n",
       "      <td>-0.108118</td>\n",
       "      <td>0.090695</td>\n",
       "      <td>0.641733</td>\n",
       "      <td>-0.053502</td>\n",
       "      <td>0.105204</td>\n",
       "      <td>-0.119401</td>\n",
       "      <td>-0.131573</td>\n",
       "      <td>1.000000</td>\n",
       "      <td>0.222968</td>\n",
       "    </tr>\n",
       "    <tr>\n",
       "      <th>Interceptions</th>\n",
       "      <td>-0.399022</td>\n",
       "      <td>0.232071</td>\n",
       "      <td>-0.178741</td>\n",
       "      <td>0.222003</td>\n",
       "      <td>0.890708</td>\n",
       "      <td>-0.125615</td>\n",
       "      <td>0.201373</td>\n",
       "      <td>-0.281568</td>\n",
       "      <td>-0.133726</td>\n",
       "      <td>0.222968</td>\n",
       "      <td>1.000000</td>\n",
       "    </tr>\n",
       "  </tbody>\n",
       "</table>\n",
       "</div>"
      ],
      "text/plain": [
       "                          Wins  Pass Attempts  Rush Attempts  Penalties  \\\n",
       "Wins                  1.000000       0.209276       0.331420  -0.144777   \n",
       "Pass Attempts         0.209276       1.000000      -0.515211   0.285037   \n",
       "Rush Attempts         0.331420      -0.515211       1.000000  -0.000904   \n",
       "Penalties            -0.144777       0.285037      -0.000904   1.000000   \n",
       "Turnovers            -0.420682       0.238423      -0.191038   0.216950   \n",
       "First Downs           0.722811       0.495663       0.296159   0.074555   \n",
       "Strength of Schedule -0.329122       0.174189      -0.250507   0.164874   \n",
       "Rushing Yards         0.261794      -0.449771       0.837317  -0.013864   \n",
       "Passing Yards         0.672992       0.713538      -0.216263   0.094409   \n",
       "Fumbles              -0.228938       0.119757      -0.108118   0.090695   \n",
       "Interceptions        -0.399022       0.232071      -0.178741   0.222003   \n",
       "\n",
       "                      Turnovers  First Downs  Strength of Schedule  \\\n",
       "Wins                  -0.420682     0.722811             -0.329122   \n",
       "Pass Attempts          0.238423     0.495663              0.174189   \n",
       "Rush Attempts         -0.191038     0.296159             -0.250507   \n",
       "Penalties              0.216950     0.074555              0.164874   \n",
       "Turnovers              1.000000    -0.123774              0.207486   \n",
       "First Downs           -0.123774     1.000000             -0.154255   \n",
       "Strength of Schedule   0.207486    -0.154255              1.000000   \n",
       "Rushing Yards         -0.277198     0.416908             -0.255343   \n",
       "Passing Yards         -0.166562     0.740531             -0.125375   \n",
       "Fumbles                0.641733    -0.053502              0.105204   \n",
       "Interceptions          0.890708    -0.125615              0.201373   \n",
       "\n",
       "                      Rushing Yards  Passing Yards   Fumbles  Interceptions  \n",
       "Wins                       0.261794       0.672992 -0.228938      -0.399022  \n",
       "Pass Attempts             -0.449771       0.713538  0.119757       0.232071  \n",
       "Rush Attempts              0.837317      -0.216263 -0.108118      -0.178741  \n",
       "Penalties                 -0.013864       0.094409  0.090695       0.222003  \n",
       "Turnovers                 -0.277198      -0.166562  0.641733       0.890708  \n",
       "First Downs                0.416908       0.740531 -0.053502      -0.125615  \n",
       "Strength of Schedule      -0.255343      -0.125375  0.105204       0.201373  \n",
       "Rushing Yards              1.000000      -0.164692 -0.119401      -0.281568  \n",
       "Passing Yards             -0.164692       1.000000 -0.131573      -0.133726  \n",
       "Fumbles                   -0.119401      -0.131573  1.000000       0.222968  \n",
       "Interceptions             -0.281568      -0.133726  0.222968       1.000000  "
      ]
     },
     "execution_count": 4,
     "metadata": {},
     "output_type": "execute_result"
    }
   ],
   "source": [
    "correlation_data = df[['Wins', 'Pass Attempts', 'Rush Attempts', 'Penalties', 'Turnovers', 'First Downs', 'Strength of Schedule',\n",
    "                  'Rushing Yards', 'Passing Yards', 'Fumbles', 'Interceptions']]\n",
    "correlation_data.corr(method ='pearson')"
   ]
  },
  {
   "cell_type": "code",
   "execution_count": 5,
   "id": "3eb728ba",
   "metadata": {},
   "outputs": [
    {
     "data": {
      "text/plain": [
       "<AxesSubplot:>"
      ]
     },
     "execution_count": 5,
     "metadata": {},
     "output_type": "execute_result"
    },
    {
     "data": {
      "image/png": "[encoded data removed]",
      "text/plain": [
       "<Figure size 432x288 with 2 Axes>"
      ]
     },
     "metadata": {
      "needs_background": "light"
     },
     "output_type": "display_data"
    }
   ],
   "source": [
    "sns.heatmap(correlation_data.corr(), annot=True, cmap=\"mako\")"
   ]
  },
  {
   "cell_type": "code",
   "execution_count": 9,
   "id": "e367ebfa",
   "metadata": {},
   "outputs": [
    {
     "name": "stdout",
     "output_type": "stream",
     "text": [
      "HTTP Error 404: Not Found\n"
     ]
    }
   ],
   "source": [
    "# creating the date object of today's date\n",
    "todays_date = date.today()\n",
    "\n",
    "# web scrape CBS for current week\n",
    "url = 'https://www.cbssports.com/nfl/schedule/'\n",
    "page = requests.get(url)\n",
    "soup = BeautifulSoup(page.content, \"html.parser\")\n",
    "results = soup.find(id=\"PageTitle-header\").text\n",
    "try:\n",
    "    current_week = int(re.search(r'\\d+', results).group())\n",
    "except:\n",
    "    print('Not in season')\n",
    "\n",
    "try:\n",
    "    games_today = Boxscores(current_week, todays_date.year)\n",
    "except Exception as e:\n",
    "    print(e)    \n",
    "# Prints a dictionary of all matchups for week 1 of 2017\n",
    "# games_today = pd.DataFrame.from_dict(games_today.games)"
   ]
  },
  {
   "cell_type": "code",
   "execution_count": 7,
   "id": "f17a6b08",
   "metadata": {},
   "outputs": [],
   "source": [
    "current_schedule = pd.DataFrame(columns = ['Away Team', 'Home Team', 'Away Score', 'Home Score', 'Winner'])"
   ]
  },
  {
   "cell_type": "code",
   "execution_count": 8,
   "id": "4780ecce",
   "metadata": {},
   "outputs": [
    {
     "ename": "NameError",
     "evalue": "name 'games_today' is not defined",
     "output_type": "error",
     "traceback": [
      "\u001b[1;31m---------------------------------------------------------------------------\u001b[0m",
      "\u001b[1;31mNameError\u001b[0m                                 Traceback (most recent call last)",
      "\u001b[1;32m~\\AppData\\Local\\Temp/ipykernel_13408/579938416.py\u001b[0m in \u001b[0;36m<module>\u001b[1;34m\u001b[0m\n\u001b[0;32m      2\u001b[0m \u001b[1;33m\u001b[0m\u001b[0m\n\u001b[0;32m      3\u001b[0m \u001b[1;33m\u001b[0m\u001b[0m\n\u001b[1;32m----> 4\u001b[1;33m \u001b[1;32mfor\u001b[0m \u001b[0mkey\u001b[0m \u001b[1;32min\u001b[0m \u001b[0mgames_today\u001b[0m\u001b[1;33m.\u001b[0m\u001b[0mgames\u001b[0m\u001b[1;33m.\u001b[0m\u001b[0mkeys\u001b[0m\u001b[1;33m(\u001b[0m\u001b[1;33m)\u001b[0m\u001b[1;33m:\u001b[0m\u001b[1;33m\u001b[0m\u001b[1;33m\u001b[0m\u001b[0m\n\u001b[0m\u001b[0;32m      5\u001b[0m         \u001b[0mcurrent_schedule\u001b[0m\u001b[1;33m[\u001b[0m\u001b[1;34m'Away Team'\u001b[0m\u001b[1;33m]\u001b[0m \u001b[1;33m=\u001b[0m  \u001b[1;33m[\u001b[0m\u001b[0mitem\u001b[0m\u001b[1;33m[\u001b[0m\u001b[1;34m'away_name'\u001b[0m\u001b[1;33m]\u001b[0m \u001b[1;32mfor\u001b[0m \u001b[0mitem\u001b[0m \u001b[1;32min\u001b[0m \u001b[0mgames_today\u001b[0m\u001b[1;33m.\u001b[0m\u001b[0mgames\u001b[0m\u001b[1;33m[\u001b[0m\u001b[0mkey\u001b[0m\u001b[1;33m]\u001b[0m\u001b[1;33m]\u001b[0m\u001b[1;33m\u001b[0m\u001b[1;33m\u001b[0m\u001b[0m\n\u001b[0;32m      6\u001b[0m         \u001b[0mcurrent_schedule\u001b[0m\u001b[1;33m[\u001b[0m\u001b[1;34m'Home Team'\u001b[0m\u001b[1;33m]\u001b[0m \u001b[1;33m=\u001b[0m  \u001b[1;33m[\u001b[0m\u001b[0mitem\u001b[0m\u001b[1;33m[\u001b[0m\u001b[1;34m'home_name'\u001b[0m\u001b[1;33m]\u001b[0m \u001b[1;32mfor\u001b[0m \u001b[0mitem\u001b[0m \u001b[1;32min\u001b[0m \u001b[0mgames_today\u001b[0m\u001b[1;33m.\u001b[0m\u001b[0mgames\u001b[0m\u001b[1;33m[\u001b[0m\u001b[0mkey\u001b[0m\u001b[1;33m]\u001b[0m\u001b[1;33m]\u001b[0m\u001b[1;33m\u001b[0m\u001b[1;33m\u001b[0m\u001b[0m\n",
      "\u001b[1;31mNameError\u001b[0m: name 'games_today' is not defined"
     ]
    }
   ],
   "source": [
    "game_date = []\n",
    "\n",
    "\n",
    "for key in games_today.games.keys():\n",
    "        current_schedule['Away Team'] =  [item['away_name'] for item in games_today.games[key]]\n",
    "        current_schedule['Home Team'] =  [item['home_name'] for item in games_today.games[key]]\n",
    "        current_schedule['Away Score'] =  [item['away_score'] for item in games_today.games[key]]\n",
    "        current_schedule['Home Score'] =  [item['home_score'] for item in games_today.games[key]]\n",
    "        current_schedule['Winner'] =  [item['winning_name'] for item in games_today.games[key]]\n",
    "        game_date.extend(item['boxscore'] for item in games_today.games[key])"
   ]
  },
  {
   "cell_type": "code",
   "execution_count": null,
   "id": "3df21ba5",
   "metadata": {},
   "outputs": [],
   "source": [
    "print(game_date) \n",
    "\n",
    "for i in range(len(game_date)):\n",
    "    game_info = Boxscore(i)\n",
    "    game_date[i] = game_info.date\n",
    "    \n",
    "print(game_date)     "
   ]
  },
  {
   "cell_type": "code",
   "execution_count": null,
   "id": "5338ef94",
   "metadata": {},
   "outputs": [],
   "source": [
    "history_of_seasons = pd.DataFrame(columns = ['Away Team', 'Home Team', 'Away Score', 'Home Score', 'Winner'])"
   ]
  },
  {
   "cell_type": "code",
   "execution_count": null,
   "id": "79311a65",
   "metadata": {},
   "outputs": [],
   "source": [
    "year = todays_date.year\n",
    "week = current_week-1\n",
    "away = []\n",
    "home = []\n",
    "away_score = []\n",
    "home_score = []\n",
    "winner = []\n",
    "weeks = []\n",
    "years = []\n",
    "\n",
    "while year >= todays_date.year-5:\n",
    "    if year != todays_date.year: week = 16\n",
    "    while week >= 1:\n",
    "        previous_games = Boxscores(week, year)\n",
    "        for key in previous_games.games.keys():\n",
    "            away.extend(item['away_name'] for item in previous_games.games[key])\n",
    "            home.extend(item['home_name'] for item in previous_games.games[key])\n",
    "            away_score.extend(item['away_score'] for item in previous_games.games[key])\n",
    "            home_score.extend(item['home_score'] for item in previous_games.games[key])\n",
    "            winner.extend(item['winning_name'] for item in previous_games.games[key])\n",
    "            for i in previous_games.games[key]: weeks.append(week)\n",
    "            for i in previous_games.games[key]: years.append(year)\n",
    "        week = week-1 \n",
    "    year = year-1"
   ]
  },
  {
   "cell_type": "code",
   "execution_count": null,
   "id": "f02ac39b",
   "metadata": {},
   "outputs": [],
   "source": [
    "home[:] = [x if x != 'Washington Redskins' else 'Washington Football Team' for x in home]\n",
    "away[:] = [x if x != 'Washington Redskins' else 'Washington Football Team' for x in away]\n",
    "\n",
    "home[:] = [x if x != 'Oakland Raiders' else 'Las Vegas Raiders' for x in home]\n",
    "away[:] = [x if x != 'Oakland Raiders' else 'Las Vegas Raiders' for x in away]\n",
    "\n",
    "history_of_seasons['Away Team'] =  away\n",
    "history_of_seasons['Home Team'] =  home\n",
    "history_of_seasons['Away Score'] = away_score\n",
    "history_of_seasons['Home Score'] =  home_score\n",
    "history_of_seasons['Winner'] =  winner\n",
    "history_of_seasons['Week'] =  weeks\n",
    "history_of_seasons['Season'] =  years"
   ]
  },
  {
   "cell_type": "code",
   "execution_count": null,
   "id": "1cdf49ca",
   "metadata": {},
   "outputs": [],
   "source": [
    "le = LabelEncoder()\n",
    "\n",
    "away = le.fit_transform(away)\n",
    "home = le.fit_transform(home)\n",
    "winner = le.fit_transform(winner)\n",
    "\n",
    "data = [away, home, away_score, home_score, weeks, years]\n",
    "target = [winner]\n",
    "\n",
    "x = pd.DataFrame(data)\n",
    "y = pd.DataFrame(target)\n",
    "x = x.transpose()\n",
    "y = y.transpose()\n",
    "\n",
    "print(x.shape)\n",
    "print(y.shape)"
   ]
  },
  {
   "cell_type": "code",
   "execution_count": null,
   "id": "61301eb4",
   "metadata": {},
   "outputs": [],
   "source": [
    "print(away)"
   ]
  },
  {
   "cell_type": "code",
   "execution_count": null,
   "id": "45f0751a",
   "metadata": {},
   "outputs": [],
   "source": [
    "print(home)"
   ]
  },
  {
   "cell_type": "code",
   "execution_count": null,
   "id": "26788431",
   "metadata": {},
   "outputs": [],
   "source": [
    "print(winner)"
   ]
  },
  {
   "cell_type": "code",
   "execution_count": null,
   "id": "293378d9",
   "metadata": {},
   "outputs": [],
   "source": [
    "x_train, x_test, y_train, y_test = train_test_split(x, y, test_size=0.2, random_state=4)"
   ]
  },
  {
   "cell_type": "code",
   "execution_count": null,
   "id": "3a07af71",
   "metadata": {},
   "outputs": [],
   "source": [
    "x_train.shape"
   ]
  },
  {
   "cell_type": "code",
   "execution_count": null,
   "id": "1d400f32",
   "metadata": {},
   "outputs": [],
   "source": [
    "# RNN Model\n",
    "model=Sequential()\n",
    "model.add(LSTM((1),input_shape=(x_train.shape[1],1)))\n",
    "model.compile(loss='mean_absolute_error', optimizer='adam',metrics=['accuracy'])\n",
    "model.summary()"
   ]
  },
  {
   "cell_type": "code",
   "execution_count": null,
   "id": "2d4bc16b",
   "metadata": {},
   "outputs": [],
   "source": [
    "history = model.fit(x_train, y_train, epochs=500, validation_data=(x_test,y_test))"
   ]
  },
  {
   "cell_type": "code",
   "execution_count": null,
   "id": "3a984432",
   "metadata": {},
   "outputs": [],
   "source": []
  },
  {
   "cell_type": "code",
   "execution_count": null,
   "id": "5d20e407",
   "metadata": {},
   "outputs": [],
   "source": []
  }
 ],
 "metadata": {
  "kernelspec": {
   "display_name": "Python 3 (ipykernel)",
   "language": "python",
   "name": "python3"
  },
  "language_info": {
   "codemirror_mode": {
    "name": "ipython",
    "version": 3
   },
   "file_extension": ".py",
   "mimetype": "text/x-python",
   "name": "python",
   "nbconvert_exporter": "python",
   "pygments_lexer": "ipython3",
   "version": "3.9.8"
  }
 },
 "nbformat": 4,
 "nbformat_minor": 5
}
